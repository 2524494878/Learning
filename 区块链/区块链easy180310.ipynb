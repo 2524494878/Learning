{
 "cells": [
  {
   "cell_type": "code",
   "execution_count": null,
   "metadata": {
    "collapsed": false,
    "scrolled": true
   },
   "outputs": [],
   "source": [
    "# -*- coding:utf-8 -*-\n",
    "\n",
    "import hashlib\n",
    "import datetime as date\n",
    "\n",
    "class Block:\n",
    "    def __init__(self,index,timestamp,data,previous_hash):\n",
    "        self.index = index\n",
    "        self.timestamp = timestamp\n",
    "        self.data = data\n",
    "        self.previous_hash = previous_hash\n",
    "        self.hash = self.hash_block()\n",
    "    def hash_block(self):\n",
    "        sha = hashlib.sha256()\n",
    "        sha.update((str(self.index)+str(self.timestamp)+str(self.data)+str(self.previous_hash)).encode(\"utf8\"))\n",
    "        return sha.hexdigest()\n",
    "    \n",
    "def create_genesis_block():\n",
    "    return Block(0,date.datetime.now(),\"Genesis Block\",\"0\")\n",
    "\n",
    "def next_block(last_block):\n",
    "    this_index = last_block.index+1\n",
    "    this_timestamp = date.datetime.now()\n",
    "    this_data = \"Hello World\"+str(this_index)\n",
    "    this_hash = last_block.hash\n",
    "    return Block(this_index,this_timestamp,this_data,this_hash)\n",
    "\n",
    "blockchain=[create_genesis_block()]\n",
    "previous_block=blockchain[0]\n",
    "num_of_block_to_add = 20\n",
    "for i in range(0,num_of_block_to_add):\n",
    "    block_to_add = next_block(previous_block)\n",
    "    blockchain.append(block_to_add)\n",
    "    previous_block = block_to_add\n",
    "    print(\"Block #{} has been added to the blockchain\".format(block_to_add.index))\n",
    "    print(\"Hash:{}\\n\".format(block_to_add.hash))"
   ]
  },
  {
   "cell_type": "code",
   "execution_count": null,
   "metadata": {
    "collapsed": true
   },
   "outputs": [],
   "source": []
  }
 ],
 "metadata": {
  "kernelspec": {
   "display_name": "Python 3",
   "language": "python",
   "name": "python3"
  },
  "language_info": {
   "codemirror_mode": {
    "name": "ipython",
    "version": 3
   },
   "file_extension": ".py",
   "mimetype": "text/x-python",
   "name": "python",
   "nbconvert_exporter": "python",
   "pygments_lexer": "ipython3",
   "version": "3.6.0"
  }
 },
 "nbformat": 4,
 "nbformat_minor": 2
}

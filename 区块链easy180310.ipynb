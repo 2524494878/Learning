{
 "cells": [
  {
   "cell_type": "code",
   "execution_count": 19,
   "metadata": {
    "collapsed": false,
    "scrolled": true
   },
   "outputs": [
    {
     "name": "stdout",
     "output_type": "stream",
     "text": [
      "Block #1 has been added to the blockchain\n",
      "Hash:bfd5c248045a29b211010f5ab3480683ccc627db19a414e88d55eeda766f271c\n",
      "\n",
      "Block #2 has been added to the blockchain\n",
      "Hash:91a6f1e057bd12251d4e26723113d52bb5e4ed799888c11706fb22a9b6d1b388\n",
      "\n",
      "Block #3 has been added to the blockchain\n",
      "Hash:810c5b678ba35a784911d956ca84c0d2bea10b26453df7ce2be613644e5b1718\n",
      "\n",
      "Block #4 has been added to the blockchain\n",
      "Hash:9ebb75b3ceda5a66a6be2163088220389c1f8478550854c97030cea30209e113\n",
      "\n",
      "Block #5 has been added to the blockchain\n",
      "Hash:d1dedef220f6f28a3b3666b547d6ac7bcb3ad2211312a02dff099019369089db\n",
      "\n",
      "Block #6 has been added to the blockchain\n",
      "Hash:20ff56bab437da7e876d2de93aa0c91deb28538a2272542960e06d62f0de4d28\n",
      "\n",
      "Block #7 has been added to the blockchain\n",
      "Hash:038957de21ff963a75dc414438d0b0194b8eb3d1651725de3e4e819439bbc2d4\n",
      "\n",
      "Block #8 has been added to the blockchain\n",
      "Hash:99646a7ff5a6dea6fd28cb9dceae2d7a7a3eaa1d28d4325be553738df178c520\n",
      "\n",
      "Block #9 has been added to the blockchain\n",
      "Hash:c9b2104fa9d09df3924ea27789a61c51f2d80cafcf19246184b7db1580608fb5\n",
      "\n",
      "Block #10 has been added to the blockchain\n",
      "Hash:6f57bfce422fc0c21abae3950843cc378c4888bdc2ba05b95476e31152ccfaf1\n",
      "\n",
      "Block #11 has been added to the blockchain\n",
      "Hash:19b8a2a53224c129a412dff58a6e3e8b4f26da5faa0d709f9b54456a50b39bad\n",
      "\n",
      "Block #12 has been added to the blockchain\n",
      "Hash:679ac89f6997d2232288299657dc383f715b626611ec72bd02cb0cdb86d1ec98\n",
      "\n",
      "Block #13 has been added to the blockchain\n",
      "Hash:95e8f677bdc5f2600d1778aceef9472cb09d4e21af4e005c67ed3ac3aa7fb2dd\n",
      "\n",
      "Block #14 has been added to the blockchain\n",
      "Hash:e8838819756397f67cb9bfcd7ca2229f316035124d7023fb6d1a12a0d0e4ae48\n",
      "\n",
      "Block #15 has been added to the blockchain\n",
      "Hash:78413f722f38cb280803a41f7bb973ce6041aff5523a3b0e38348eb93a7dd7ca\n",
      "\n",
      "Block #16 has been added to the blockchain\n",
      "Hash:977fe0af4430f3e77484119ebfa442e98fed9dddc3e579bf3e90e4b58603ccb1\n",
      "\n",
      "Block #17 has been added to the blockchain\n",
      "Hash:e3e1458d179337afcd692bca11054b1a42c863faa4291e69c4cc9133c361f260\n",
      "\n",
      "Block #18 has been added to the blockchain\n",
      "Hash:ec13592f48e4e9a4d0322bb22bac950cc92252e57b92b69a86851ff478a30eb0\n",
      "\n",
      "Block #19 has been added to the blockchain\n",
      "Hash:d5a9478509569a62f5c338cf74944c2e537e23f86228c7f8daa93dd21928ffba\n",
      "\n",
      "Block #20 has been added to the blockchain\n",
      "Hash:6ab9883ac8e2d225a81ac841579cc63e470d80e6453a934ddf10ce03d501c6dc\n",
      "\n"
     ]
    }
   ],
   "source": [
    "# -*- coding:utf-8 -*-\n",
    "\n",
    "import hashlib\n",
    "import datetime as date\n",
    "\n",
    "class Block:\n",
    "    def __init__(self,index,timestamp,data,previous_hash):\n",
    "        self.index = index\n",
    "        self.timestamp = timestamp\n",
    "        self.data = data\n",
    "        self.previous_hash = previous_hash\n",
    "        self.hash = self.hash_block()\n",
    "    def hash_block(self):\n",
    "        sha = hashlib.sha256()\n",
    "        sha.update((str(self.index)+str(self.timestamp)+str(self.data)+str(self.previous_hash)).encode(\"utf8\"))\n",
    "        return sha.hexdigest()\n",
    "    \n",
    "def create_genesis_block():\n",
    "    return Block(0,date.datetime.now(),\"Genesis Block\",\"0\")\n",
    "\n",
    "def next_block(last_block):\n",
    "    this_index = last_block.index+1\n",
    "    this_timestamp = date.datetime.now()\n",
    "    this_data = \"Hello World\"+str(this_index)\n",
    "    this_hash = last_block.hash\n",
    "    return Block(this_index,this_timestamp,this_data,this_hash)\n",
    "\n",
    "blockchain=[create_genesis_block()]\n",
    "previous_block=blockchain[0]\n",
    "num_of_block_to_add = 20\n",
    "for i in range(0,num_of_block_to_add):\n",
    "    block_to_add = next_block(previous_block)\n",
    "    blockchain.append(block_to_add)\n",
    "    previous_block = block_to_add\n",
    "    print(\"Block #{} has been added to the blockchain\".format(block_to_add.index))\n",
    "    print(\"Hash:{}\\n\".format(block_to_add.hash))"
   ]
  },
  {
   "cell_type": "code",
   "execution_count": null,
   "metadata": {
    "collapsed": true
   },
   "outputs": [],
   "source": []
  }
 ],
 "metadata": {
  "kernelspec": {
   "display_name": "Python 3",
   "language": "python",
   "name": "python3"
  },
  "language_info": {
   "codemirror_mode": {
    "name": "ipython",
    "version": 3
   },
   "file_extension": ".py",
   "mimetype": "text/x-python",
   "name": "python",
   "nbconvert_exporter": "python",
   "pygments_lexer": "ipython3",
   "version": "3.6.0"
  }
 },
 "nbformat": 4,
 "nbformat_minor": 2
}
